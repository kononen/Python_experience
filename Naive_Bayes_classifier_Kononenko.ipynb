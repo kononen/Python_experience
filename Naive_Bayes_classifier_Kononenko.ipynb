{
 "cells": [
  {
   "cell_type": "code",
   "execution_count": 45,
   "id": "d3f4578a",
   "metadata": {},
   "outputs": [
    {
     "name": "stdout",
     "output_type": "stream",
     "text": [
      "    День  На улице Температура   Влажность    Ветер Решение\n",
      "0    1.0  Солнечно       Жарко     Высокая   Слабый     Нет\n",
      "1    2.0  Солнечно       Жарко     Высокая  Сильный     Нет\n",
      "2    3.0  Пасмурно       Жарко     Высокая   Слабый      Да\n",
      "3    4.0     Дождь      Средне     Высокая   Слабый      Да\n",
      "4    5.0     Дождь   Прохладно  Нормальная  Сильный      Да\n",
      "5    6.0     Дождь   Прохладно  Нормальная  Сильный     Нет\n",
      "6    7.0  Пасмурно   Прохладно  Нормальная  Сильный      Да\n",
      "7    8.0  Солнечно      Средне     Высокая   Слабый     Нет\n",
      "8    9.0  Солнечно   Прохладно  Нормальная   Слабый      Да\n",
      "9   10.0     Дождь      Средне  Нормальная   Слабый      Да\n",
      "10  11.0  Солнечно      Средне  Нормальная  Сильный      Да\n",
      "11  12.0  Пасмурно      Средне     Высокая  Сильный      Да\n",
      "12  13.0  Пасмурно       Жарко  Нормальная   Слабый      Да\n",
      "13  14.0     Дождь      Средне     Высокая  Сильный     Нет\n",
      "    На улице  Температура  Влажность  Ветер\n",
      "0          0            0          0      0\n",
      "1          0            0          0      1\n",
      "2          1            0          0      0\n",
      "3          2            1          0      0\n",
      "4          2            2          1      1\n",
      "5          2            2          1      1\n",
      "6          1            2          1      1\n",
      "7          0            1          0      0\n",
      "8          0            2          1      0\n",
      "9          2            1          1      0\n",
      "10         0            1          1      1\n",
      "11         1            1          0      1\n",
      "12         1            0          1      0\n",
      "13         2            1          0      1\n"
     ]
    }
   ],
   "source": [
    "#!python -m pip install -U prettytable\n",
    "\n",
    "import pandas as pd\n",
    "from prettytable import PrettyTable \n",
    "\n",
    "import sklearn\n",
    "import numpy as np\n",
    "import matplotlib.pyplot as plt\n",
    "from sklearn import datasets, manifold\n",
    "from sklearn.cluster import KMeans\n",
    "from sklearn import decomposition\n",
    "import pandas as pd\n",
    "import seaborn as sns \n",
    "import math\n",
    "from sklearn.naive_bayes import CategoricalNB\n",
    "\n",
    "ds = pd.read_excel('/Users/rust/Downloads/Пример_Байес_задание.xlsx')\n",
    "ds = ds.dropna()\n",
    "#print(ds)\n",
    "print(ds)\n",
    "\n",
    "ds[['На улице','Температура','Влажность','Ветер', 'Решение']] = ds[['На улице','Температура','Влажность','Ветер', 'Решение']].apply(lambda x: pd.factorize(x)[0])\n",
    "\n",
    "ds, target = ds[['На улице','Температура','Влажность','Ветер']],ds[['Решение']]\n",
    "\n",
    "\n",
    "print(ds)\n",
    "\n",
    "\n",
    "\n"
   ]
  },
  {
   "cell_type": "code",
   "execution_count": 46,
   "id": "6f28433d",
   "metadata": {},
   "outputs": [],
   "source": [
    "ds = ds.to_numpy()\n",
    "target = target.to_numpy()\n"
   ]
  },
  {
   "cell_type": "code",
   "execution_count": 50,
   "id": "4d294873",
   "metadata": {},
   "outputs": [
    {
     "name": "stdout",
     "output_type": "stream",
     "text": [
      "+------------------------------------------+\n",
      "|          Априорные вероятности           |\n",
      "+---------------------+--------------------+\n",
      "|          Да         |        Нет         |\n",
      "+---------------------+--------------------+\n",
      "| 0.20922190201729124 | 0.7907780979827089 |\n",
      "+---------------------+--------------------+\n"
     ]
    },
    {
     "name": "stderr",
     "output_type": "stream",
     "text": [
      "/Applications/anaconda3/lib/python3.11/site-packages/sklearn/utils/validation.py:1184: DataConversionWarning: A column-vector y was passed when a 1d array was expected. Please change the shape of y to (n_samples, ), for example using ravel().\n",
      "  y = column_or_1d(y, warn=True)\n"
     ]
    }
   ],
   "source": [
    "# строим модель\n",
    "model_obj = CategoricalNB()\n",
    "# обучаем модель\n",
    "model_obj.fit(ds, target)\n",
    "# вероятность исхода 2 2 1 1\n",
    "res = model_obj.predict_proba([[2, 2, 1, 1]])\n",
    "P_yes = res[0, 0]\n",
    "P_not = res[0, 1]\n",
    "\n",
    "date = PrettyTable();\n",
    "date.field_names = [\"Да\",\"Нет\"];\n",
    "date.add_row([P_yes, P_not])\n",
    "print(date.get_string(title = \"Априорные вероятности\"))\n",
    "#print(date)"
   ]
  },
  {
   "cell_type": "code",
   "execution_count": null,
   "id": "5204b188",
   "metadata": {},
   "outputs": [],
   "source": []
  }
 ],
 "metadata": {
  "kernelspec": {
   "display_name": "Python 3 (ipykernel)",
   "language": "python",
   "name": "python3"
  },
  "language_info": {
   "codemirror_mode": {
    "name": "ipython",
    "version": 3
   },
   "file_extension": ".py",
   "mimetype": "text/x-python",
   "name": "python",
   "nbconvert_exporter": "python",
   "pygments_lexer": "ipython3",
   "version": "3.11.4"
  }
 },
 "nbformat": 4,
 "nbformat_minor": 5
}
