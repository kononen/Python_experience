{
 "cells": [
  {
   "cell_type": "markdown",
   "id": "e09b151c",
   "metadata": {},
   "source": [
    "## Исходные данные"
   ]
  },
  {
   "cell_type": "code",
   "execution_count": 2,
   "id": "ebb48db7",
   "metadata": {},
   "outputs": [
    {
     "data": {
      "text/plain": [
       "<matplotlib.collections.PathCollection at 0x129334ed0>"
      ]
     },
     "execution_count": 2,
     "metadata": {},
     "output_type": "execute_result"
    },
    {
     "data": {
      "image/png": "[encoded data removed]",
      "text/plain": [
       "<Figure size 640x480 with 1 Axes>"
      ]
     },
     "metadata": {},
     "output_type": "display_data"
    }
   ],
   "source": [
    "import numpy as np\n",
    "import matplotlib.pyplot as plt\n",
    "import copy\n",
    "import sklearn\n",
    "import random\n",
    "from sklearn.datasets import make_blobs \n",
    "from sklearn.cluster import KMeans\n",
    "np.random.seed(0)\n",
    "n_samples = 100 #Количество точек\n",
    "random_state = 3\n",
    "k=2 #Количество кластеров\n",
    "n=100\n",
    "dim=2\n",
    "\n",
    "# Вариант 5\n",
    "\n",
    "centers = [(0.2, 5), (1, 5)] #Центры кластеров\n",
    "blobs = make_blobs(n_samples=n_samples,\n",
    "                             centers=centers,\n",
    "                             cluster_std=[(0.1, 0.5), (0.09, 0.5)],\n",
    "                             random_state=random_state)\n",
    "bl = blobs[0] \n",
    "plt.scatter(bl[:, 0], bl[:, 1], marker='o')\n",
    "\n"
   ]
  },
  {
   "cell_type": "markdown",
   "id": "a6cef5ce",
   "metadata": {},
   "source": [
    "## Алгоритм, реализованный scikit-learn"
   ]
  },
  {
   "cell_type": "code",
   "execution_count": 2,
   "id": "a71b046f",
   "metadata": {},
   "outputs": [
    {
     "data": {
      "text/plain": [
       "array([[0.44536149, 4.57585329],\n",
       "       [0.71349007, 5.36525078]])"
      ]
     },
     "execution_count": 2,
     "metadata": {},
     "output_type": "execute_result"
    }
   ],
   "source": [
    "\n",
    "X = np.array(bl)\n",
    "kmeans = KMeans(n_clusters=2, random_state=0, n_init=\"auto\").fit(X)\n",
    "\n",
    "kmeans.predict([[0, 0], [12, 3]])\n",
    "kmeans.cluster_centers_ # kmeans.labels_"
   ]
  },
  {
   "cell_type": "markdown",
   "id": "c32223a3",
   "metadata": {},
   "source": [
    "## Пользовательский алгоритм k-means"
   ]
  },
  {
   "cell_type": "code",
   "execution_count": 3,
   "id": "a53cb3dd",
   "metadata": {},
   "outputs": [
    {
     "name": "stdout",
     "output_type": "stream",
     "text": [
      "[[0.18348125268852747, 4.973956662151301], [0.9914580181736945, 5.014511258876883]]\n"
     ]
    }
   ],
   "source": [
    "\n",
    "def data_distribution(array, cluster):\n",
    "\tcluster_content = [[] for i in range(k)]\n",
    "\n",
    "\tfor i in range(n):\n",
    "\t\tmin_distance = float('inf')\n",
    "\t\tsituable_cluster = -1\n",
    "\t\tfor j in range(k):\n",
    "\t\t\tdistance = 0\n",
    "\t\t\tfor q in range(dim):\n",
    "\t\t\t\tdistance += (array[i][q]-cluster[j][q])**2\n",
    "\n",
    "\t\t\tdistance = distance**(1/2)\n",
    "\t\t\tif distance < min_distance:\n",
    "\t\t\t\tmin_distance = distance\n",
    "\t\t\t\tsituable_cluster = j\n",
    "\n",
    "\t\tcluster_content[situable_cluster].append(array[i])\n",
    "\n",
    "\treturn cluster_content\n",
    "\n",
    "def cluster_update(cluster, cluster_content, dim):\n",
    "\tk = len(cluster)\n",
    "\tfor i in range(k): #по i кластерам\n",
    "\t\tfor q in range(dim): #по q параметрам\n",
    "\t\t\tupdated_parameter = 0\n",
    "\t\t\tfor j in range(len(cluster_content[i])):\n",
    "\t\t\t\tupdated_parameter += cluster_content[i][j][q]\n",
    "\t\t\tif len(cluster_content[i]) != 0:\n",
    "\t\t\t\tupdated_parameter = updated_parameter / len(cluster_content[i])\n",
    "\t\t\tcluster[i][q] = updated_parameter\n",
    "\treturn cluster\n",
    "\n",
    "\n",
    "\n",
    "\n",
    "cluster = [[0.2, 5], [1, 5]]\n",
    "cluster_content = [[] for i in range(k)]\n",
    "cluster_content = data_distribution(bl, cluster)\n",
    "privious_cluster = copy.deepcopy(cluster)\n",
    "while 1:\n",
    "\tcluster = cluster_update(cluster, cluster_content, dim)\n",
    "\tcluster_content = data_distribution(bl, cluster)\n",
    "\tif cluster == privious_cluster:\n",
    "\t\tprint(cluster) # cluster_content\n",
    "\t\tbreak\n",
    "\tprivious_cluster = copy.deepcopy(cluster)"
   ]
  },
  {
   "cell_type": "code",
   "execution_count": 20,
   "id": "8097c761",
   "metadata": {},
   "outputs": [],
   "source": [
    "#def visualisation_2d(cluster_content):\n",
    "#\n",
    "#\tk = 2\n",
    "#\tplt.grid() \n",
    "#\tplt.xlabel(\"x\")    \n",
    "#\tplt.ylabel(\"y\")\n",
    "#\n",
    "#\tfor i in range(k): \n",
    "#\t\tx_coordinates = []\n",
    "#\t\ty_coordinates = []\n",
    "#\t\tfor q in range(len(cluster_content[i])):\n",
    "#\t\t\tx_coordinates.append(cluster_content[i][q][0])\n",
    "#\t\t\ty_coordinates.append(cluster_content[i][q][1])\n",
    "#\t\tplt.scatter(x_coordinates, y_coordinates)\n",
    "#\tplt.show()"
   ]
  },
  {
   "cell_type": "markdown",
   "id": "66e2e901",
   "metadata": {},
   "source": [
    "## Вывод\n",
    "\n",
    "Алгоритм,исползованный scikit-learn, является более точным, чем реализованный самостоятельно алгоритм, однако значения алгоритмов близки, что говорит о правильности реализации второго алгоритма. \n",
    "\n",
    "В случае уеньшения дисперсии при задании начального множества точек, второй алгоритм выдаёт более точные результаты (более приближенные к первому алгоритму).\n"
   ]
  }
 ],
 "metadata": {
  "kernelspec": {
   "display_name": "Python 3 (ipykernel)",
   "language": "python",
   "name": "python3"
  },
  "language_info": {
   "codemirror_mode": {
    "name": "ipython",
    "version": 3
   },
   "file_extension": ".py",
   "mimetype": "text/x-python",
   "name": "python",
   "nbconvert_exporter": "python",
   "pygments_lexer": "ipython3",
   "version": "3.11.4"
  }
 },
 "nbformat": 4,
 "nbformat_minor": 5
}
